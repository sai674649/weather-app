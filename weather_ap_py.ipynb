{
  "nbformat": 4,
  "nbformat_minor": 0,
  "metadata": {
    "colab": {
      "provenance": [],
      "authorship_tag": "ABX9TyNfbJGaJv6FN3T9gbu6CXGe",
      "include_colab_link": true
    },
    "kernelspec": {
      "name": "python3",
      "display_name": "Python 3"
    },
    "language_info": {
      "name": "python"
    }
  },
  "cells": [
    {
      "cell_type": "markdown",
      "metadata": {
        "id": "view-in-github",
        "colab_type": "text"
      },
      "source": [
        "<a href=\"https://colab.research.google.com/github/sai674649/weather-app/blob/main/weather_ap_py.ipynb\" target=\"_parent\"><img src=\"https://colab.research.google.com/assets/colab-badge.svg\" alt=\"Open In Colab\"/></a>"
      ]
    },
    {
      "cell_type": "code",
      "execution_count": 2,
      "metadata": {
        "colab": {
          "base_uri": "https://localhost:8080/"
        },
        "id": "CLhxVpYZzvzn",
        "outputId": "58dcd8f6-7a35-462c-ac4e-cf0b9c346b39"
      },
      "outputs": [
        {
          "output_type": "stream",
          "name": "stdout",
          "text": [
            "Enter city name: London\n",
            "\n",
            "📍 Weather in London, GB:\n",
            "🌡️ Temperature: 7.89°C\n",
            "🌤️ Condition: Clear sky\n",
            "💧 Humidity: 83%\n",
            "🌬️ Wind Speed: 0 m/s\n"
          ]
        }
      ],
      "source": [
        "import requests\n",
        "\n",
        "def get_weather(city_name, api_key):\n",
        "    base_url = \"http://api.openweathermap.org/data/2.5/weather\"\n",
        "    params = {\n",
        "        'q': city_name,\n",
        "        'appid': api_key,\n",
        "        'units': 'metric'\n",
        "    }\n",
        "\n",
        "    response = requests.get(base_url, params=params)\n",
        "    data = response.json()\n",
        "\n",
        "    if response.status_code == 200:\n",
        "        print(f\"\\n📍 Weather in {data['name']}, {data['sys']['country']}:\")\n",
        "        print(f\"🌡️ Temperature: {data['main']['temp']}°C\")\n",
        "        print(f\"🌤️ Condition: {data['weather'][0]['description'].capitalize()}\")\n",
        "        print(f\"💧 Humidity: {data['main']['humidity']}%\")\n",
        "        print(f\"🌬️ Wind Speed: {data['wind']['speed']} m/s\")\n",
        "    else:\n",
        "        print(f\"❌ Error: {data.get('message', 'Unable to fetch weather')}\")\n",
        "\n",
        "if __name__ == \"__main__\":\n",
        "    API_KEY = \"2b3bd6842fd63dd698bae486984d002f\"\n",
        "    city = input(\"Enter city name: \")\n",
        "    get_weather(city, API_KEY)\n"
      ]
    },
    {
      "cell_type": "markdown",
      "source": [
        "This Python code uses the requests library to fetch weather data from the OpenWeatherMap API.\n",
        "\n",
        "Here's a breakdown:\n",
        "\n",
        "import requests: This line imports the necessary library for making HTTP requests.\n",
        "def get_weather(city_name, api_key):: This defines a function called get_weather that takes the city name and your API key as input.\n",
        "base_url = \"http://api.openweathermap.org/data/2.5/weather\": This sets the base URL for the OpenWeatherMap weather API endpoint.\n",
        "params = {...}: This dictionary contains the parameters for the API request, including the city name, your API key, and units (set to metric for Celsius).\n",
        "response = requests.get(base_url, params=params): This line makes the actual GET request to the API with the specified URL and parameters.\n",
        "data = response.json(): This converts the JSON response from the API into a Python dictionary.\n",
        "if response.status_code == 200:: This checks if the API request was successful (status code 200).\n",
        "print(...): If the request is successful, it prints the weather information in a formatted way.\n",
        "else:: If the request is not successful, it prints an error message.\n",
        "if __name__ == \"__main__\":: This ensures the code inside this block only runs when the script is executed directly.\n",
        "API_KEY = \"...\": This line sets the API key for OpenWeatherMap. Note: It's generally not recommended to hardcode API keys directly in your code. Consider using environment variables or Colab secrets for better security.\n",
        "city = input(\"Enter city name: \"): This prompts the user to enter a city name.\n",
        "get_weather(city, API_KEY): This calls the get_weather function with the entered city and API key to fetch and display the weather."
      ],
      "metadata": {
        "id": "noIKaGnd6iUp"
      }
    },
    {
      "cell_type": "code",
      "source": [],
      "metadata": {
        "id": "alH3Hw7Zz5q2"
      },
      "execution_count": null,
      "outputs": []
    }
  ]
}